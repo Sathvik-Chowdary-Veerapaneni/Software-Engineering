{
 "cells": [
  {
   "cell_type": "markdown",
   "metadata": {},
   "source": [
    "### Sorting\n",
    "https://www.geeksforgeeks.org/sorting-algorithms/#basics-of-sorting-algorithms"
   ]
  },
  {
   "cell_type": "markdown",
   "metadata": {},
   "source": [
    "## Bubble Sort\n",
    "\n",
    "1. Bubble Sorting is one of the easiet sorting algorithm to implement.\n",
    "2. It is a comparison based algorithm\n",
    "3. each adjacent elemets are compared and swapped if they are in wrong order.\n",
    "4. pass through the list is repeated until the list is sorted.\n",
    "\n",
    "\n",
    "#### Time Complexity: O(N^2)\n"
   ]
  },
  {
   "cell_type": "code",
   "execution_count": 15,
   "metadata": {},
   "outputs": [],
   "source": [
    "def bubble_sort(arr):\n",
    "    n=len(arr)\n",
    "    for i in range(n):\n",
    "\n",
    "        for j in range(0,n-i-1): #no need to check all pairs\n",
    "            if arr[j]>arr[j+1]:\n",
    "                arr[j],arr[j+1]=arr[j+1],arr[j] #elemets swapped\n",
    "    return arr\n",
    "\n",
    "\n"
   ]
  },
  {
   "cell_type": "code",
   "execution_count": 16,
   "metadata": {},
   "outputs": [],
   "source": [
    "arr=[1,4,5,7,89,21,21,46,78,43,21,678,2213,33,445,677,999932,2121,2457,884,342,113,556,788,9,0,1,3,5,6]"
   ]
  },
  {
   "cell_type": "code",
   "execution_count": 17,
   "metadata": {},
   "outputs": [
    {
     "data": {
      "text/plain": [
       "[0,\n",
       " 1,\n",
       " 1,\n",
       " 3,\n",
       " 4,\n",
       " 5,\n",
       " 5,\n",
       " 6,\n",
       " 7,\n",
       " 9,\n",
       " 21,\n",
       " 21,\n",
       " 21,\n",
       " 33,\n",
       " 43,\n",
       " 46,\n",
       " 78,\n",
       " 89,\n",
       " 113,\n",
       " 342,\n",
       " 445,\n",
       " 556,\n",
       " 677,\n",
       " 678,\n",
       " 788,\n",
       " 884,\n",
       " 2121,\n",
       " 2213,\n",
       " 2457,\n",
       " 999932]"
      ]
     },
     "execution_count": 17,
     "metadata": {},
     "output_type": "execute_result"
    }
   ],
   "source": [
    "bubble_sort(arr)"
   ]
  }
 ],
 "metadata": {
  "kernelspec": {
   "display_name": "Python 3",
   "language": "python",
   "name": "python3"
  },
  "language_info": {
   "codemirror_mode": {
    "name": "ipython",
    "version": 3
   },
   "file_extension": ".py",
   "mimetype": "text/x-python",
   "name": "python",
   "nbconvert_exporter": "python",
   "pygments_lexer": "ipython3",
   "version": "3.11.9"
  }
 },
 "nbformat": 4,
 "nbformat_minor": 2
}
