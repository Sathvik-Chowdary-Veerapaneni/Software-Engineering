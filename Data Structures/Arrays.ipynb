{
 "cells": [
  {
   "cell_type": "markdown",
   "metadata": {},
   "source": [
    "## Arrays are Linear Data Structures\n",
    "- Arrays are linear data structures that are used to store elements of the same data type and in Lists it can muttable in Python.\n",
    "- The elements of an array are stored in contiguous memory locations.\n",
    "    - If the contiguous memory locations are not available, the array elements are stored in different memory locations, the computers can make it fast, but arrays had some limitations."
   ]
  },
  {
   "cell_type": "markdown",
   "metadata": {},
   "source": [
    "- The elements of an array can be accessed using an index.\n",
    "- The index of the first element of an array is 0.\n",
    "- The index of the last element of an array is n-1, where n is the number of elements in the array.\n"
   ]
  },
  {
   "cell_type": "markdown",
   "metadata": {},
   "source": [
    "# Time Complexity\n",
    "- Access: O(1)\n",
    "- Search: O(n)\n",
    "- Insertion: O(n)\n",
    "- Deletion: O(n)\n"
   ]
  },
  {
   "cell_type": "markdown",
   "metadata": {},
   "source": [
    "# Problem 1 : Two Sum Problem\n",
    "\n",
    "https://leetcode.com/problems/two-sum/description/\n"
   ]
  },
  {
   "cell_type": "code",
   "execution_count": 4,
   "metadata": {},
   "outputs": [],
   "source": [
    "# Given an array of integers nums and an integer target, return indices of the two numbers such that they add up to target.\n",
    "# You may assume that each input would have exactly one solution, and you may not use the same element twice.\n",
    "# You can return the answer in any order."
   ]
  },
  {
   "cell_type": "markdown",
   "metadata": {},
   "source": [
    "### Break Down Anlysis of Problem 1\n",
    "\n",
    "- nums = Array of Integers \n",
    "- target = interger value\n",
    "- need to return the indices of the two numbers,such that they add up to the target.\n",
    "- We can return the indices in any order."
   ]
  },
  {
   "cell_type": "markdown",
   "metadata": {},
   "source": [
    "### Approach 1 : Brute Force Approach, Check all the possible pairs of elements in the array.\n",
    "\n",
    "- We can use two nested loops to check all the possible pairs of elements in the array.\n",
    "- Time Complexity of this approach is O(n^2)."
   ]
  },
  {
   "cell_type": "code",
   "execution_count": 14,
   "metadata": {},
   "outputs": [],
   "source": [
    "def TwoSum(nums,target):\n",
    "    for i in range(len(nums)):\n",
    "        for j in range(len(nums)):\n",
    "            if i!=j:\n",
    "                if nums[i]+nums[j]==target:\n",
    "                    return i,j\n",
    "    return False"
   ]
  },
  {
   "cell_type": "code",
   "execution_count": 15,
   "metadata": {},
   "outputs": [],
   "source": [
    "nums=[1,4,5,6,7,8]\n",
    "target=20"
   ]
  },
  {
   "cell_type": "code",
   "execution_count": 16,
   "metadata": {},
   "outputs": [
    {
     "data": {
      "text/plain": [
       "False"
      ]
     },
     "execution_count": 16,
     "metadata": {},
     "output_type": "execute_result"
    }
   ],
   "source": [
    "TwoSum(nums,target)"
   ]
  },
  {
   "cell_type": "markdown",
   "metadata": {},
   "source": [
    "### Approach 2 : Using Hash Map\n",
    "\n",
    "- arthemetic operation\n",
    "- x+y = target\n",
    "- y = target - x\n",
    "\n",
    "Use hash map to elements of y, if y found, then return the indices of x and y.\n",
    "\n",
    "# How to add value in dictionary\n",
    "- dict[key] = value\n"
   ]
  },
  {
   "cell_type": "code",
   "execution_count": 65,
   "metadata": {},
   "outputs": [],
   "source": [
    "def TwoSum_Hash(nums,target):\n",
    "    hash={}\n",
    "    y=None\n",
    "    for index, x in enumerate(nums):\n",
    "        y = target - x\n",
    "\n",
    "        if y in hash.keys():\n",
    "            return(index,hash[y])\n",
    "        \n",
    "        hash[x]=index\n",
    "        # print(hash)\n",
    "\n",
    "    # return False\n"
   ]
  },
  {
   "cell_type": "code",
   "execution_count": 68,
   "metadata": {},
   "outputs": [],
   "source": [
    "nums=[1,4,5,6,7,8]\n",
    "target=5"
   ]
  },
  {
   "cell_type": "code",
   "execution_count": 69,
   "metadata": {},
   "outputs": [
    {
     "data": {
      "text/plain": [
       "(1, 0)"
      ]
     },
     "execution_count": 69,
     "metadata": {},
     "output_type": "execute_result"
    }
   ],
   "source": [
    "TwoSum_Hash(nums,target)"
   ]
  },
  {
   "cell_type": "markdown",
   "metadata": {},
   "source": [
    "# Debug Solution\n",
    "\n",
    "The key-value pair added to the hash map should be the current number and its index, not the difference and the index"
   ]
  },
  {
   "cell_type": "markdown",
   "metadata": {},
   "source": []
  }
 ],
 "metadata": {
  "kernelspec": {
   "display_name": "Python 3",
   "language": "python",
   "name": "python3"
  },
  "language_info": {
   "codemirror_mode": {
    "name": "ipython",
    "version": 3
   },
   "file_extension": ".py",
   "mimetype": "text/x-python",
   "name": "python",
   "nbconvert_exporter": "python",
   "pygments_lexer": "ipython3",
   "version": "3.11.9"
  }
 },
 "nbformat": 4,
 "nbformat_minor": 2
}
